{
 "cells": [
  {
   "cell_type": "code",
   "execution_count": null,
   "metadata": {},
   "outputs": [],
   "source": [
    "import pandas as pd\n",
    "import matplotlib.pyplot as plt\n",
    "import seaborn as sns\n",
    "\n",
    "#################################\n",
    "#                               #\n",
    "# Get started with ASA DataFest #\n",
    "#                               #\n",
    "#################################\n",
    "\n",
    "# In this Python script, we demonstrate how to:\n",
    "# 1) Access the ASA DataFest 2024 dataset.\n",
    "# 2) Read the data into Pandas dataframes.\n",
    "# 3) Conduct basic analysis.\n",
    "\n",
    "#################################\n",
    "#                               #\n",
    "#   Step 1: Access the data     #\n",
    "#                               #\n",
    "#################################\n",
    "\n",
    "# To access the ASA dataset, use this link: \n",
    "# https://bwsyncandshare.kit.edu/s/ErACwGqLAJ9iyxS ##TO BE UPDATED\n",
    "# Unzip the data into the same directory as this Python script.\n",
    "# Read the documentation carefully to understand the contents of the dataset.\n",
    "\n",
    "#################################\n",
    "#                               #\n",
    "#   Step 2: Read the data       #\n",
    "#                               #\n",
    "#################################\n",
    "\n",
    "data_directory = '2024 ASA DataFest Data and Documentation-updated-2024-03-04/2024 ASA DataFest Data and Documentation-updated-2024-03-04/'\n",
    "checkpoints_eoc = pd.read_csv(data_directory + 'full_03_04/checkpoints_eoc.csv')\n",
    "checkpoints_pulse = pd.read_csv(data_directory + 'full_03_04/checkpoints_pulse.csv')\n",
    "items = pd.read_csv(data_directory + 'full_03_04/items.csv')\n",
    "media_views = pd.read_csv(data_directory + 'full_03_04/media_views.csv')\n",
    "page_views = pd.read_csv(data_directory + 'full_03_04/page_views.csv')\n",
    "responses = pd.read_csv(data_directory + 'full_03_04/responses.csv')\n"
   ]
  },
  {
   "cell_type": "code",
   "execution_count": null,
   "metadata": {},
   "outputs": [],
   "source": [
    "\n",
    "#################################\n",
    "#                               #\n",
    "#   Step 3: Example Analysis    #\n",
    "#                               #\n",
    "#################################\n",
    "\n",
    "# Question: Are responses more often correct when the student has retried more \n",
    "# pages in that chapter?\n",
    "\n",
    "# Derive each individual student's portion of correct item responses per chapter.\n",
    "responses['score'] = responses['points_earned'] / responses['points_possible']\n",
    "average_scores = responses.groupby(['student_id', 'chapter'])['score'].mean().reset_index()\n",
    "\n",
    "# Derive each student's number of 'try again' clicks per chapter.\n",
    "average_try_again_clicks = page_views.groupby(['student_id', 'chapter'])['tried_again_clicks'].mean().reset_index()\n",
    "\n",
    "# Join the two tables together using 'student_id' and 'chapter' as a \n",
    "# composite key.\n",
    "results = pd.merge(average_scores, average_try_again_clicks, on=['student_id', 'chapter'], how='left')\n"
   ]
  },
  {
   "cell_type": "code",
   "execution_count": null,
   "metadata": {},
   "outputs": [],
   "source": [
    "# Visualize the results by scatter-plotting the average scores with the average \n",
    "# number of retries.\n",
    "lm_model = sns.regplot(data=results, x='tried_again_clicks', y='score', line_kws={\"color\":\"red\"})\n",
    "plt.xlabel(\"Average Retry Clicks\")\n",
    "plt.ylabel(\"Average Score\")\n",
    "plt.title(\"Scatter Plot of Average Retry Clicks vs Average Score with Regression Line\")\n",
    "plt.show()\n",
    "\n",
    "#################################\n",
    "#                               #\n",
    "#  Step 4: Enjoy DataFest 2024! #\n",
    "#                               #\n",
    "#################################\n"
   ]
  }
 ],
 "metadata": {
  "kernelspec": {
   "display_name": "Python 3",
   "language": "python",
   "name": "python3"
  },
  "language_info": {
   "codemirror_mode": {
    "name": "ipython",
    "version": 3
   },
   "file_extension": ".py",
   "mimetype": "text/x-python",
   "name": "python",
   "nbconvert_exporter": "python",
   "pygments_lexer": "ipython3",
   "version": "3.10.7"
  }
 },
 "nbformat": 4,
 "nbformat_minor": 2
}
